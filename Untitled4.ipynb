{
  "nbformat": 4,
  "nbformat_minor": 0,
  "metadata": {
    "colab": {
      "name": "Untitled4.ipynb",
      "provenance": [],
      "authorship_tag": "ABX9TyNNpXGKD+oKi5IuWb8KQ6/P",
      "include_colab_link": true
    },
    "kernelspec": {
      "name": "python3",
      "display_name": "Python 3"
    },
    "language_info": {
      "name": "python"
    }
  },
  "cells": [
    {
      "cell_type": "markdown",
      "metadata": {
        "id": "view-in-github",
        "colab_type": "text"
      },
      "source": [
        "<a href=\"https://colab.research.google.com/github/comrade-pavel-sergeevich/de2/blob/main/Untitled4.ipynb\" target=\"_parent\"><img src=\"https://colab.research.google.com/assets/colab-badge.svg\" alt=\"Open In Colab\"/></a>"
      ]
    },
    {
      "cell_type": "code",
      "metadata": {
        "colab": {
          "base_uri": "https://localhost:8080/",
          "height": 265
        },
        "id": "WLjILFvq6qZk",
        "outputId": "545b3acf-48ad-4dc4-f052-98e2130c3315"
      },
      "source": [
        "import numpy as np\n",
        "import matplotlib.pyplot as plt\n",
        "\n",
        "steps = 2000\n",
        "\n",
        "\n",
        "def exact_solution(t):\n",
        "    return (np.exp(3 * t)+3*t-3)/3\n",
        "\n",
        "\n",
        "def numerical_solution(y0, dt, num_steps):\n",
        "    y = np.zeros(num_steps + 1)\n",
        "    y[0] = y0\n",
        "    for step in range(num_steps):\n",
        "        y[step + 1] = y[step] + (3 * y[step] -3*time[step] +4)* dt\n",
        "\n",
        "    return y\n",
        "\n",
        "\n",
        "if __name__ == \"__main__\":\n",
        "    t0 = 0\n",
        "    time = np.linspace(t0, 3, steps + 1)\n",
        "    num_sol = numerical_solution(exact_solution(t0), time[1] - time[0], steps)\n",
        "    exact_sol = exact_solution(time)\n",
        "\n",
        "    plt.plot(time, num_sol, \".--\", label=\"numerical\")\n",
        "    plt.plot(time, exact_sol, label=\"exact\")\n",
        "    plt.legend(loc=\"best\")\n",
        "    plt.show()\n"
      ],
      "execution_count": 17,
      "outputs": [
        {
          "output_type": "display_data",
          "data": {
            "image/png": "[encoded data removed]",
            "text/plain": [
              "<Figure size 432x288 with 1 Axes>"
            ]
          },
          "metadata": {
            "needs_background": "light"
          }
        }
      ]
    }
  ]
}