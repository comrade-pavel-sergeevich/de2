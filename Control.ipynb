{
  "nbformat": 4,
  "nbformat_minor": 0,
  "metadata": {
    "colab": {
      "name": "Untitled2.ipynb",
      "provenance": [],
      "authorship_tag": "ABX9TyP9gXPfaJl0GrAF3HPSAnhg",
      "include_colab_link": true
    },
    "kernelspec": {
      "display_name": "Python 3",
      "name": "python3"
    },
    "language_info": {
      "name": "python"
    }
  },
  "cells": [
    {
      "cell_type": "markdown",
      "metadata": {
        "id": "view-in-github",
        "colab_type": "text"
      },
      "source": [
        "<a href=\"https://colab.research.google.com/github/comrade-pavel-sergeevich/de2/blob/main/Control.ipynb\" target=\"_parent\"><img src=\"https://colab.research.google.com/assets/colab-badge.svg\" alt=\"Open In Colab\"/></a>"
      ]
    },
    {
      "cell_type": "code",
      "metadata": {
        "id": "NEdlGRnNSKhG"
      },
      "source": [
        "from sympy import * # пакет символьных вычислений\n",
        "import numpy as np # пакет для работы с многомерными массивами\n",
        "x, k, t,  h0, m, g, C = symbols(\"x k t h0 m g C\")"
      ],
      "execution_count": 8,
      "outputs": []
    },
    {
      "cell_type": "code",
      "metadata": {
        "id": "zyq6H9Acgdf4"
      },
      "source": [
        "v = Function(\"v\")\n",
        "h = Function(\"h\")"
      ],
      "execution_count": 9,
      "outputs": []
    },
    {
      "cell_type": "code",
      "metadata": {
        "colab": {
          "base_uri": "https://localhost:8080/",
          "height": 52
        },
        "id": "06NWe0NWjkwH",
        "outputId": "bf1cdd56-505c-433a-aabf-9680c955bce3"
      },
      "source": [
        "de = Eq(diff(v(t),t),-m*g + k*v(t))\n",
        "de"
      ],
      "execution_count": 10,
      "outputs": [
        {
          "output_type": "execute_result",
          "data": {
            "text/latex": "$\\displaystyle \\frac{d}{d t} v{\\left(t \\right)} = - g m + k v{\\left(t \\right)}$",
            "text/plain": [
              "Eq(Derivative(v(t), t), -g*m + k*v(t))"
            ]
          },
          "metadata": {},
          "execution_count": 10
        }
      ]
    },
    {
      "cell_type": "code",
      "metadata": {
        "colab": {
          "base_uri": "https://localhost:8080/",
          "height": 59
        },
        "id": "HLm3JWGOlEq2",
        "outputId": "a2eaa0ba-4eea-467d-b17c-3f610a6de409"
      },
      "source": [
        "sol1=dsolve(de,v(t),ics={v(0):0})\n",
        "sol1"
      ],
      "execution_count": 11,
      "outputs": [
        {
          "output_type": "execute_result",
          "data": {
            "text/latex": "$\\displaystyle v{\\left(t \\right)} = \\frac{g m + e^{k \\left(t + \\frac{\\log{\\left(- g m \\right)}}{k}\\right)}}{k}$",
            "text/plain": [
              "Eq(v(t), (g*m + exp(k*(t + log(-g*m)/k)))/k)"
            ]
          },
          "metadata": {},
          "execution_count": 11
        }
      ]
    },
    {
      "cell_type": "code",
      "metadata": {
        "colab": {
          "base_uri": "https://localhost:8080/",
          "height": 38
        },
        "id": "J-u94wHslYX3",
        "outputId": "1d7226df-67da-4541-8970-3ea36de56f2c"
      },
      "source": [
        "dsol2=sol1.subs(g, -9.81).subs(m,1).subs(k,0.01)\n",
        "dsol2"
      ],
      "execution_count": 12,
      "outputs": [
        {
          "output_type": "execute_result",
          "data": {
            "text/latex": "$\\displaystyle v{\\left(t \\right)} = 981.0 e^{0.01 t} - 981.0$",
            "text/plain": [
              "Eq(v(t), 981.0*exp(0.01*t) - 981.0)"
            ]
          },
          "metadata": {},
          "execution_count": 12
        }
      ]
    },
    {
      "cell_type": "code",
      "metadata": {
        "colab": {
          "base_uri": "https://localhost:8080/",
          "height": 52
        },
        "id": "d1uwgtskmHip",
        "outputId": "315e28ad-7578-4753-b6b5-52574220a077"
      },
      "source": [
        "de2=Eq(diff(h(t), t), 981*exp(0.01*t) - 981 )\n",
        "de2"
      ],
      "execution_count": 13,
      "outputs": [
        {
          "output_type": "execute_result",
          "data": {
            "text/latex": "$\\displaystyle \\frac{d}{d t} h{\\left(t \\right)} = 981 e^{0.01 t} - 981$",
            "text/plain": [
              "Eq(Derivative(h(t), t), 981*exp(0.01*t) - 981)"
            ]
          },
          "metadata": {},
          "execution_count": 13
        }
      ]
    },
    {
      "cell_type": "code",
      "metadata": {
        "colab": {
          "base_uri": "https://localhost:8080/",
          "height": 38
        },
        "id": "JJDOlgo9nEaa",
        "outputId": "2d542dd0-0bfb-4b5f-8ce9-5424fd9390ff"
      },
      "source": [
        "sol2=dsolve(de2,h(t), ics={h(0):-50})\n",
        "sol2\n"
      ],
      "execution_count": 14,
      "outputs": [
        {
          "output_type": "execute_result",
          "data": {
            "text/latex": "$\\displaystyle h{\\left(t \\right)} = - 981 t + 98100.0 e^{0.01 t} - 98150.0$",
            "text/plain": [
              "Eq(h(t), -981*t + 98100.0*exp(0.01*t) - 98150.0)"
            ]
          },
          "metadata": {},
          "execution_count": 14
        }
      ]
    },
    {
      "cell_type": "code",
      "metadata": {
        "id": "c_FnrZ0JwVsY",
        "colab": {
          "base_uri": "https://localhost:8080/",
          "height": 38
        },
        "outputId": "d61e9a66-0570-43f6-8bb7-b3cb5c5a655e"
      },
      "source": [
        "eq=Eq(-981*t+98100*exp(0.01*t) -98150 , 0)\n",
        "eq"
      ],
      "execution_count": 15,
      "outputs": [
        {
          "output_type": "execute_result",
          "data": {
            "text/latex": "$\\displaystyle - 981 t + 98100 e^{0.01 t} - 98150 = 0$",
            "text/plain": [
              "Eq(-981*t + 98100*exp(0.01*t) - 98150, 0)"
            ]
          },
          "metadata": {},
          "execution_count": 15
        }
      ]
    },
    {
      "cell_type": "code",
      "metadata": {
        "colab": {
          "base_uri": "https://localhost:8080/"
        },
        "id": "vRZlgBKRnU1l",
        "outputId": "fcee2513-0503-4554-aa06-4cbc69cb4827"
      },
      "source": [
        "\"\"\"t1=solve(eq,t)\"\"\"\n",
        "t1=1.00046; \"\"\"Из WolframAlpha\"\"\"\n",
        "t1"
      ],
      "execution_count": 20,
      "outputs": [
        {
          "output_type": "execute_result",
          "data": {
            "text/plain": [
              "1.00046"
            ]
          },
          "metadata": {},
          "execution_count": 20
        }
      ]
    },
    {
      "cell_type": "code",
      "metadata": {
        "colab": {
          "base_uri": "https://localhost:8080/",
          "height": 38
        },
        "id": "29hAmRmeBx9Y",
        "outputId": "cee98dd0-8739-4a71-dcbb-7bff274225d4"
      },
      "source": [
        "vh=dsol2.subs(t, t1).subs(k,0.01).subs(g,-9.81).subs(m,1)\n",
        "vh"
      ],
      "execution_count": 23,
      "outputs": [
        {
          "output_type": "execute_result",
          "data": {
            "text/latex": "$\\displaystyle v{\\left(1.00046 \\right)} = 9.86377187243613$",
            "text/plain": [
              "Eq(v(1.00046), 9.86377187243613)"
            ]
          },
          "metadata": {},
          "execution_count": 23
        }
      ]
    }
  ]
}