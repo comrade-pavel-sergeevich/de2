{
  "nbformat": 4,
  "nbformat_minor": 0,
  "metadata": {
    "colab": {
      "name": "03prac.ipynb",
      "provenance": [],
      "collapsed_sections": [
        "1b7sv7KFNENj",
        "YSH32DVOQXe2",
        "KZyL7ZRKKNAC"
      ],
      "include_colab_link": true
    },
    "kernelspec": {
      "name": "python3",
      "display_name": "Python 3"
    },
    "language_info": {
      "name": "python"
    }
  },
  "cells": [
    {
      "cell_type": "markdown",
      "metadata": {
        "id": "view-in-github",
        "colab_type": "text"
      },
      "source": [
        "<a href=\"https://colab.research.google.com/github/comrade-pavel-sergeevich/de2/blob/main/03prac.ipynb\" target=\"_parent\"><img src=\"https://colab.research.google.com/assets/colab-badge.svg\" alt=\"Open In Colab\"/></a>"
      ]
    },
    {
      "cell_type": "markdown",
      "metadata": {
        "id": "1b7sv7KFNENj"
      },
      "source": [
        "## Задание 1. Аналитическое (выполняется в тетради)"
      ]
    },
    {
      "cell_type": "markdown",
      "metadata": {
        "id": "pDEsQGsFQBVx"
      },
      "source": [
        "###1.1 Решите задачу Коши для ДУ с разделяющимися переменными:"
      ]
    },
    {
      "cell_type": "markdown",
      "metadata": {
        "id": "LyL3HsPhOZXa"
      },
      "source": [
        "1. $yy'=3y^2-2$, $y(0)=1$ \n",
        "2. $2yy'=y^2+1$, $y(0)=1$ \n",
        "3. $-yy'=4+2y^2$, $y(0)=1$ \n",
        "4. $3yy'=y^2-1$, $y(0)=1$\n",
        "5. $-2yy'=4y^2+1$, $y(0)=1$ \n",
        "6. $yy'=2-5y^2$, $y(0)=1$\n",
        "7. $4yy'=y^2+4$, $y(0)=1$\n",
        "8. $-yy'=3-y^2$, $y(0)=1$\n",
        "9. $yy'=1-2y^2$, $y(0)=1$\n",
        "10. $5yy'=y^2+1$, $y(0)=1$\n",
        "11. $-3yy'=2y^2+1$, $y(0)=1$\n",
        "12. $-yy'=4-2y^2$, $y(0)=1$"
      ]
    },
    {
      "cell_type": "markdown",
      "metadata": {
        "id": "nDuH9MPLP7vS"
      },
      "source": [
        "###1.2 Решите задачу Коши для ДУ с разделяющимися переменными:"
      ]
    },
    {
      "cell_type": "markdown",
      "metadata": {
        "id": "DXczJq1pOwjy"
      },
      "source": [
        "1. $y'=e^{y-x}$, $y(0)=0$\n",
        "2. $y'=-e^{y+2x}$, $y(0)=0$\n",
        "3. $y'=2e^{x+y}$, $y(0)=0$\n",
        "4. $y'=e^{2y-x}$, $y(0)=0$\n",
        "5. $y'=-e^{3y-2x}$, $y(0)=0$ \n",
        "6. $y'=e^{y+4x}$, $y(0)=0$\n",
        "7. $y'=2e^{3y-x}$, $y(0)=0$\n",
        "8. $y'=-e^{x-4y}$, $y(0)=0$\n",
        "9. $y'=2e^{2y+2x}$, $y(0)=0$\n",
        "10. $y'=e^{5y-2x}$, $y(0)=0$\n",
        "11. $y'=-e^{3x-4y}$, $y(0)=0$\n",
        "12. $y'=e^{7y-x}$, $y(0)=0$\n"
      ]
    },
    {
      "cell_type": "markdown",
      "metadata": {
        "id": "_s45SxSdQJZ8"
      },
      "source": [
        "###1.3 Решите задачу Коши для ДУ с разделяющимися переменными:"
      ]
    },
    {
      "cell_type": "markdown",
      "metadata": {
        "id": "JgYeq7ubPHp7"
      },
      "source": [
        "1. $y'=\\dfrac{2\\sqrt{y}}{\\sin\\sqrt{y}}$, $y(0)=0$\n",
        "2. $y'=\\dfrac{y}{\\sin\\ln{y}}$, $y(0)=1$\n",
        "3. $y'=\\dfrac{1+y^2}{\\sin\\arctan{y}}$, $y(0)=0$\n",
        "4. $y'=\\dfrac{\\cos^2{y}}{\\sin\\tan{y}}$, $y(0)=0$\n",
        "5. $y'=(1+y)\\sqrt{y}$, $y(0)=1$\n",
        "6. $y'=(1+\\ln^2{y})y$, $y(0)=1$\n",
        "7. $y'=(1+\\arctan^2{y})(1+y^2)$, $y(1)=0$\n",
        "8. $y'=\\dfrac{1+e^{2y}}{e^y}$, $y(0)=0$\n",
        "9. $y'=\\cot(\\sqrt{y})\\cdot\\sqrt{y}$, $y(0)=0$\n",
        "10. $y'=\\cot(\\ln{y})\\cdot y$, $y(0)=1$\n",
        "11. $y'=\\dfrac{\\cot{e^y}}{e^y}$, $y(0)=1$\n",
        "12. $y'=\\cot(\\tan{y})\\cdot\\cos^2{y}$, $y(1)=0$\n",
        "\n"
      ]
    },
    {
      "cell_type": "markdown",
      "metadata": {
        "id": "YSH32DVOQXe2"
      },
      "source": [
        "##Задание 2. Решение дифференциальных уравнений в SymPy"
      ]
    },
    {
      "cell_type": "markdown",
      "metadata": {
        "id": "yxEaFXq-KZjY"
      },
      "source": [
        "Для каждого упражнения (1-3) из аналитической части: \n",
        "1. найдите постройте в SymPy общее решение ДУ; \n",
        "2. найдите решение соответствующей начальной задачи;\n",
        "3. постройте на одном графике семейства интегральных кривых общего решения и (другим цветом) решение начальной задачи."
      ]
    },
    {
      "cell_type": "code",
      "metadata": {
        "id": "1SLUNIbcJ-ve"
      },
      "source": [
        ""
      ],
      "execution_count": null,
      "outputs": []
    },
    {
      "cell_type": "code",
      "metadata": {
        "id": "VSGetY-IJcFJ"
      },
      "source": [
        ""
      ],
      "execution_count": null,
      "outputs": []
    },
    {
      "cell_type": "code",
      "metadata": {
        "id": "Xo_2AL4Zc03I"
      },
      "source": [
        ""
      ],
      "execution_count": null,
      "outputs": []
    },
    {
      "cell_type": "markdown",
      "metadata": {
        "id": "KZyL7ZRKKNAC"
      },
      "source": [
        "## Задание 3. Элементарные химические реакции"
      ]
    },
    {
      "cell_type": "markdown",
      "metadata": {
        "id": "YK3OSx2J9jeJ"
      },
      "source": [
        "Рассмотрим элементарную химическую реакцию второго порядка $A+B\\to C$ (см. модель в лекции). \n",
        "\n",
        "Пусть начальные концентрации веществ $A$, $B$ и $C$ равны $a_0=1$, $b_0=2$ и $c_0=3$."
      ]
    },
    {
      "cell_type": "code",
      "metadata": {
        "id": "QMDO4rX59r_-"
      },
      "source": [
        "from sympy import *\n",
        "from IPython.display import display # отображение формул\n",
        "\n",
        "t = symbols(\"t\") # время\n",
        "a0, b0, c0 = 1, 2, 3 # начальные концентрации веществ A, B, C\n",
        "\n",
        "x = Function(\"x\") # убыль вещества A\n",
        "x_ = Derivative(x(t), t) # dx/dt\n",
        "\n",
        "a = a0 - x(t) # концентрация A = исходная концентрация - убыль\n",
        "b = b0 - x(t) # убыль B равна убыли A\n",
        "c = c0 + x(t) # прибыль C равна убыли A\n",
        "display(a, b, c)\n",
        "\n",
        "v = a * b # скорость реакции (k = 1)\n",
        "\n",
        "eq = Eq(x_, v) # ДУ для убыли x(t), получается из ДУ для a(t): da/dt = -v\n",
        "display(eq)\n",
        "\n",
        "X = dsolve(eq, ics={x(0):0}) # начальная задача для x(t), н.у. x(0) = 0\n",
        "display(X)\n",
        "\n",
        "# строим графики a(t), b(t) и c(t) для всех трех веществ, участвующих в реакции\n",
        "T = 10 # интервал времени для графика\n",
        "p = plot(show=False)\n",
        "p.extend(plot(a.subs(x(t), X.rhs), (t, 0, T), show=False, line_color=\"red\"))\n",
        "p.extend(plot(b.subs(x(t), X.rhs), (t, 0, T), show=False, line_color=\"green\"))\n",
        "p.extend(plot(c.subs(x(t), X.rhs), (t, 0, T), show=False, line_color=\"orange\"))\n",
        "p.show()"
      ],
      "execution_count": null,
      "outputs": []
    },
    {
      "cell_type": "markdown",
      "metadata": {
        "id": "rFeFAV6tAxPt"
      },
      "source": [
        "Решите по аналогичной схеме задачу определения зависимости от времени концентраций всех реагентов в заданной элементарной химической реакции: \n",
        "1. $A+B\\to 2C$;\n",
        "2. $A+B\\to C+D$;\n",
        "3. $A+B\\to B+C$;\n",
        "4. $2A\\to B$;\n",
        "5. $2A\\to B+C$;\n",
        "6. $2A\\to A+B$;\n",
        "7. $3A\\to B$;\n",
        "8. $3A\\to 2B+C$;\n",
        "9. $3A\\to A+B$;\n",
        "10. $2A+B\\to B+C$;\n",
        "11. $A+2B\\to A+C$;\n",
        "12. $A+B+C\\to D$.\n",
        "\n",
        "Начальные концентрации веществ равны \n",
        "$$a_0=1, b_0=2, c_0=3, d_0=0.$$\n",
        "Если какое-то вещество (например, $D$) не участвует в реакции, то соответствующую начальную концентрацию (например, $d_0$) не используйте!"
      ]
    },
    {
      "cell_type": "code",
      "metadata": {
        "id": "Jv23XAJ3CWej",
        "outputId": "d24f461a-9292-4141-9ee6-fc3f2f2b9739",
        "colab": {
          "base_uri": "https://localhost:8080/",
          "height": 52
        }
      },
      "source": [
        "from sympy import * # пакет символьных вычислений\n",
        "import numpy as np # пакет для работы с многомерными массивами\n",
        "t, v0, g, h0, k, v, C = symbols(\"t v0 g h0 k v, C\")\n",
        "sopr = Function(\"sopr\")\n",
        "v = Function(\"v\")\n",
        "cc = Function(\"c1\")\n",
        "cc(t)\n",
        "v(t)\n",
        "dvdt=Derivative(v(t),t)\n",
        "v=v0+g*t\n",
        "#sopr = v*k\n",
        "#mg_vk=g-sopr\n",
        "#g=-1.6\n",
        "m=1\n",
        "#v0=100\n",
        "#k=0.01\n",
        "h0=0\n",
        "\n",
        "## t1-?, hmax-?, t2-?\n",
        "dvdt"
      ],
      "execution_count": 150,
      "outputs": [
        {
          "output_type": "execute_result",
          "data": {
            "text/latex": "$\\displaystyle \\frac{d}{d t} v{\\left(t \\right)}$",
            "text/plain": [
              "Derivative(v(t), t)"
            ]
          },
          "metadata": {},
          "execution_count": 150
        }
      ]
    },
    {
      "cell_type": "code",
      "metadata": {
        "id": "woyBnURKY5PF",
        "outputId": "d2de062b-0f52-41cf-c8a6-5e4d1ed9853c",
        "colab": {
          "base_uri": "https://localhost:8080/",
          "height": 38
        }
      },
      "source": [
        "h_2p = mg_vk\n",
        "h_2p"
      ],
      "execution_count": 73,
      "outputs": [
        {
          "output_type": "execute_result",
          "data": {
            "text/latex": "$\\displaystyle g - k \\left(g t + v_{0}\\right)$",
            "text/plain": [
              "g - k*(g*t + v0)"
            ]
          },
          "metadata": {},
          "execution_count": 73
        }
      ]
    },
    {
      "cell_type": "code",
      "metadata": {
        "id": "1WJnmlNtbPFS",
        "outputId": "fcf782da-07d7-4736-af8a-fe13e0249e67",
        "colab": {
          "base_uri": "https://localhost:8080/",
          "height": 54
        }
      },
      "source": [
        "h_p = integrate(h_2p,t)+v0\n",
        "h_p"
      ],
      "execution_count": 74,
      "outputs": [
        {
          "output_type": "execute_result",
          "data": {
            "text/latex": "$\\displaystyle - \\frac{g k t^{2}}{2} + t \\left(g - k v_{0}\\right) + 100$",
            "text/plain": [
              "-g*k*t**2/2 + t*(g - k*v0) + 100"
            ]
          },
          "metadata": {},
          "execution_count": 74
        }
      ]
    },
    {
      "cell_type": "code",
      "metadata": {
        "id": "B6LnhUOQbdn-",
        "outputId": "297cdf18-cbed-40e9-c06a-87da626cfdb3",
        "colab": {
          "base_uri": "https://localhost:8080/",
          "height": 58
        }
      },
      "source": [
        "h=integrate(h_p,t)+h0\n",
        "h"
      ],
      "execution_count": 75,
      "outputs": [
        {
          "output_type": "execute_result",
          "data": {
            "text/latex": "$\\displaystyle - \\frac{g k t^{3}}{6} + t^{2} \\left(\\frac{g}{2} - \\frac{k v_{0}}{2}\\right) + 100 t$",
            "text/plain": [
              "-g*k*t**3/6 + t**2*(g/2 - k*v0/2) + 100*t"
            ]
          },
          "metadata": {},
          "execution_count": 75
        }
      ]
    },
    {
      "cell_type": "code",
      "metadata": {
        "id": "nUpX_xxaeXXV",
        "outputId": "d3d09898-a1a1-4cb7-a1a6-bf5772393cad",
        "colab": {
          "base_uri": "https://localhost:8080/",
          "height": 52
        }
      },
      "source": [
        "eq=Eq(dvdt,-k*v)\n",
        "eq"
      ],
      "execution_count": 111,
      "outputs": [
        {
          "output_type": "execute_result",
          "data": {
            "text/latex": "$\\displaystyle \\frac{d}{d t} v{\\left(t \\right)} = - k \\left(g t + v_{0}\\right)$",
            "text/plain": [
              "Eq(Derivative(v(t), t), -k*(g*t + v0))"
            ]
          },
          "metadata": {},
          "execution_count": 111
        }
      ]
    },
    {
      "cell_type": "code",
      "metadata": {
        "id": "546Rh501gpVJ",
        "outputId": "b00a4b2e-3d47-4de1-d151-eaefc6169408",
        "colab": {
          "base_uri": "https://localhost:8080/",
          "height": 58
        }
      },
      "source": [
        "sol=dsolve(eq)\n",
        "sol"
      ],
      "execution_count": 140,
      "outputs": [
        {
          "output_type": "execute_result",
          "data": {
            "text/latex": "$\\displaystyle v{\\left(t \\right)} = C_{1} - k t \\left(\\frac{g t}{2} + v_{0}\\right)$",
            "text/plain": [
              "Eq(v(t), C1 - k*t*(g*t/2 + v0))"
            ]
          },
          "metadata": {},
          "execution_count": 140
        }
      ]
    },
    {
      "cell_type": "code",
      "metadata": {
        "id": "WwPC1kArtT90",
        "outputId": "858f2477-c15f-4876-b6c2-6d336c2ff741",
        "colab": {
          "base_uri": "https://localhost:8080/",
          "height": 58
        }
      },
      "source": [
        "cc = k*t*(g*t/2+v0)\n",
        "cc=diff(cc,t)\n",
        "cc"
      ],
      "execution_count": 158,
      "outputs": [
        {
          "output_type": "execute_result",
          "data": {
            "text/latex": "$\\displaystyle \\frac{g k t}{2} + k \\left(\\frac{g t}{2} + v_{0}\\right)$",
            "text/plain": [
              "g*k*t/2 + k*(g*t/2 + v0)"
            ]
          },
          "metadata": {},
          "execution_count": 158
        }
      ]
    }
  ]
}