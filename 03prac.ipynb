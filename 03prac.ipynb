{
  "nbformat": 4,
  "nbformat_minor": 0,
  "metadata": {
    "colab": {
      "name": "03prac.ipynb",
      "provenance": [],
      "collapsed_sections": [
        "1b7sv7KFNENj",
        "YSH32DVOQXe2",
        "KZyL7ZRKKNAC"
      ],
      "include_colab_link": true
    },
    "kernelspec": {
      "name": "python3",
      "display_name": "Python 3"
    },
    "language_info": {
      "name": "python"
    }
  },
  "cells": [
    {
      "cell_type": "markdown",
      "metadata": {
        "id": "view-in-github",
        "colab_type": "text"
      },
      "source": [
        "<a href=\"https://colab.research.google.com/github/comrade-pavel-sergeevich/de2/blob/main/03prac.ipynb\" target=\"_parent\"><img src=\"https://colab.research.google.com/assets/colab-badge.svg\" alt=\"Open In Colab\"/></a>"
      ]
    },
    {
      "cell_type": "markdown",
      "metadata": {
        "id": "1b7sv7KFNENj"
      },
      "source": [
        "## Задание 1. Аналитическое (выполняется в тетради)"
      ]
    },
    {
      "cell_type": "markdown",
      "metadata": {
        "id": "pDEsQGsFQBVx"
      },
      "source": [
        "###1.1 Решите задачу Коши для ДУ с разделяющимися переменными:"
      ]
    },
    {
      "cell_type": "markdown",
      "metadata": {
        "id": "LyL3HsPhOZXa"
      },
      "source": [
        "1. $yy'=3y^2-2$, $y(0)=1$ \n",
        "2. $2yy'=y^2+1$, $y(0)=1$ \n",
        "3. $-yy'=4+2y^2$, $y(0)=1$ \n",
        "4. $3yy'=y^2-1$, $y(0)=1$\n",
        "5. $-2yy'=4y^2+1$, $y(0)=1$ \n",
        "6. $yy'=2-5y^2$, $y(0)=1$\n",
        "7. $4yy'=y^2+4$, $y(0)=1$\n",
        "8. $-yy'=3-y^2$, $y(0)=1$\n",
        "9. $yy'=1-2y^2$, $y(0)=1$\n",
        "10. $5yy'=y^2+1$, $y(0)=1$\n",
        "11. $-3yy'=2y^2+1$, $y(0)=1$\n",
        "12. $-yy'=4-2y^2$, $y(0)=1$"
      ]
    },
    {
      "cell_type": "markdown",
      "metadata": {
        "id": "nDuH9MPLP7vS"
      },
      "source": [
        "###1.2 Решите задачу Коши для ДУ с разделяющимися переменными:"
      ]
    },
    {
      "cell_type": "markdown",
      "metadata": {
        "id": "DXczJq1pOwjy"
      },
      "source": [
        "1. $y'=e^{y-x}$, $y(0)=0$\n",
        "2. $y'=-e^{y+2x}$, $y(0)=0$\n",
        "3. $y'=2e^{x+y}$, $y(0)=0$\n",
        "4. $y'=e^{2y-x}$, $y(0)=0$\n",
        "5. $y'=-e^{3y-2x}$, $y(0)=0$ \n",
        "6. $y'=e^{y+4x}$, $y(0)=0$\n",
        "7. $y'=2e^{3y-x}$, $y(0)=0$\n",
        "8. $y'=-e^{x-4y}$, $y(0)=0$\n",
        "9. $y'=2e^{2y+2x}$, $y(0)=0$\n",
        "10. $y'=e^{5y-2x}$, $y(0)=0$\n",
        "11. $y'=-e^{3x-4y}$, $y(0)=0$\n",
        "12. $y'=e^{7y-x}$, $y(0)=0$\n"
      ]
    },
    {
      "cell_type": "markdown",
      "metadata": {
        "id": "_s45SxSdQJZ8"
      },
      "source": [
        "###1.3 Решите задачу Коши для ДУ с разделяющимися переменными:"
      ]
    },
    {
      "cell_type": "markdown",
      "metadata": {
        "id": "JgYeq7ubPHp7"
      },
      "source": [
        "1. $y'=\\dfrac{2\\sqrt{y}}{\\sin\\sqrt{y}}$, $y(0)=0$\n",
        "2. $y'=\\dfrac{y}{\\sin\\ln{y}}$, $y(0)=1$\n",
        "3. $y'=\\dfrac{1+y^2}{\\sin\\arctan{y}}$, $y(0)=0$\n",
        "4. $y'=\\dfrac{\\cos^2{y}}{\\sin\\tan{y}}$, $y(0)=0$\n",
        "5. $y'=(1+y)\\sqrt{y}$, $y(0)=1$\n",
        "6. $y'=(1+\\ln^2{y})y$, $y(0)=1$\n",
        "7. $y'=(1+\\arctan^2{y})(1+y^2)$, $y(1)=0$\n",
        "8. $y'=\\dfrac{1+e^{2y}}{e^y}$, $y(0)=0$\n",
        "9. $y'=\\cot(\\sqrt{y})\\cdot\\sqrt{y}$, $y(0)=0$\n",
        "10. $y'=\\cot(\\ln{y})\\cdot y$, $y(0)=1$\n",
        "11. $y'=\\dfrac{\\cot{e^y}}{e^y}$, $y(0)=1$\n",
        "12. $y'=\\cot(\\tan{y})\\cdot\\cos^2{y}$, $y(1)=0$\n",
        "\n"
      ]
    },
    {
      "cell_type": "markdown",
      "metadata": {
        "id": "YSH32DVOQXe2"
      },
      "source": [
        "##Задание 2. Решение дифференциальных уравнений в SymPy"
      ]
    },
    {
      "cell_type": "markdown",
      "metadata": {
        "id": "yxEaFXq-KZjY"
      },
      "source": [
        "Для каждого упражнения (1-3) из аналитической части: \n",
        "1. найдите постройте в SymPy общее решение ДУ; \n",
        "2. найдите решение соответствующей начальной задачи;\n",
        "3. постройте на одном графике семейства интегральных кривых общего решения и (другим цветом) решение начальной задачи."
      ]
    },
    {
      "cell_type": "code",
      "metadata": {
        "id": "1SLUNIbcJ-ve"
      },
      "source": [
        ""
      ],
      "execution_count": null,
      "outputs": []
    },
    {
      "cell_type": "code",
      "metadata": {
        "id": "VSGetY-IJcFJ"
      },
      "source": [
        ""
      ],
      "execution_count": null,
      "outputs": []
    },
    {
      "cell_type": "code",
      "metadata": {
        "id": "Xo_2AL4Zc03I"
      },
      "source": [
        ""
      ],
      "execution_count": null,
      "outputs": []
    },
    {
      "cell_type": "markdown",
      "metadata": {
        "id": "KZyL7ZRKKNAC"
      },
      "source": [
        "## Задание 3. Элементарные химические реакции"
      ]
    },
    {
      "cell_type": "markdown",
      "metadata": {
        "id": "YK3OSx2J9jeJ"
      },
      "source": [
        "Рассмотрим элементарную химическую реакцию второго порядка $A+B\\to C$ (см. модель в лекции). \n",
        "\n",
        "Пусть начальные концентрации веществ $A$, $B$ и $C$ равны $a_0=1$, $b_0=2$ и $c_0=3$."
      ]
    },
    {
      "cell_type": "code",
      "metadata": {
        "id": "QMDO4rX59r_-"
      },
      "source": [
        "from sympy import *\n",
        "from IPython.display import display # отображение формул\n",
        "\n",
        "t = symbols(\"t\") # время\n",
        "a0, b0, c0 = 1, 2, 3 # начальные концентрации веществ A, B, C\n",
        "\n",
        "x = Function(\"x\") # убыль вещества A\n",
        "x_ = Derivative(x(t), t) # dx/dt\n",
        "\n",
        "a = a0 - x(t) # концентрация A = исходная концентрация - убыль\n",
        "b = b0 - x(t) # убыль B равна убыли A\n",
        "c = c0 + x(t) # прибыль C равна убыли A\n",
        "display(a, b, c)\n",
        "\n",
        "v = a * b # скорость реакции (k = 1)\n",
        "\n",
        "eq = Eq(x_, v) # ДУ для убыли x(t), получается из ДУ для a(t): da/dt = -v\n",
        "display(eq)\n",
        "\n",
        "X = dsolve(eq, ics={x(0):0}) # начальная задача для x(t), н.у. x(0) = 0\n",
        "display(X)\n",
        "\n",
        "# строим графики a(t), b(t) и c(t) для всех трех веществ, участвующих в реакции\n",
        "T = 10 # интервал времени для графика\n",
        "p = plot(show=False)\n",
        "p.extend(plot(a.subs(x(t), X.rhs), (t, 0, T), show=False, line_color=\"red\"))\n",
        "p.extend(plot(b.subs(x(t), X.rhs), (t, 0, T), show=False, line_color=\"green\"))\n",
        "p.extend(plot(c.subs(x(t), X.rhs), (t, 0, T), show=False, line_color=\"orange\"))\n",
        "p.show()"
      ],
      "execution_count": null,
      "outputs": []
    },
    {
      "cell_type": "markdown",
      "metadata": {
        "id": "rFeFAV6tAxPt"
      },
      "source": [
        "Решите по аналогичной схеме задачу определения зависимости от времени концентраций всех реагентов в заданной элементарной химической реакции: \n",
        "1. $A+B\\to 2C$;\n",
        "2. $A+B\\to C+D$;\n",
        "3. $A+B\\to B+C$;\n",
        "4. $2A\\to B$;\n",
        "5. $2A\\to B+C$;\n",
        "6. $2A\\to A+B$;\n",
        "7. $3A\\to B$;\n",
        "8. $3A\\to 2B+C$;\n",
        "9. $3A\\to A+B$;\n",
        "10. $2A+B\\to B+C$;\n",
        "11. $A+2B\\to A+C$;\n",
        "12. $A+B+C\\to D$.\n",
        "\n",
        "Начальные концентрации веществ равны \n",
        "$$a_0=1, b_0=2, c_0=3, d_0=0.$$\n",
        "Если какое-то вещество (например, $D$) не участвует в реакции, то соответствующую начальную концентрацию (например, $d_0$) не используйте!"
      ]
    },
    {
      "cell_type": "code",
      "metadata": {
        "id": "Jv23XAJ3CWej"
      },
      "source": [
        ""
      ],
      "execution_count": null,
      "outputs": []
    }
  ]
}